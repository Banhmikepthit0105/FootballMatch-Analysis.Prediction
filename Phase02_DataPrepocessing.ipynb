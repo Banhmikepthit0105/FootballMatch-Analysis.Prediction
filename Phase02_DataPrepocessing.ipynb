{
 "cells": [
  {
   "cell_type": "markdown",
   "metadata": {
    "id": "wn5o_9GqMd1i"
   },
   "source": [
    "# <center> PHẦN 2. KHÁM PHÁ DỮ LIỆU & ĐẶT CÂU HỎI"
   ]
  },
  {
   "cell_type": "markdown",
   "metadata": {
    "id": "iEDuLCZAOnJG"
   },
   "source": [
    "# Tổng quan về tiền xử lý dữ liệu\n",
    "Mục tiêu chính:\n",
    "## A. Làm sạch dữ liệu (Exploratory Data Analysis - EDA):\n",
    "1. Khám phá dữ liệu: Đưa ra những đánh giá đầu tiên về dữ liệu để hiểu cấu trúc và ý nghĩa của chúng.\n",
    "Trước khi xử lý, chúng ta cần hiểu rõ cấu trúc và nội dung của dữ liệu. Các hoạt động bao gồm:\n",
    "\n",
    "+ Kiểm tra số lượng dòng, cột.\n",
    "Xác định kiểu dữ liệu của từng cột (số, phân loại, ngày tháng, ...).\n",
    "+ Kiểm tra tỷ lệ dữ liệu bị thiếu, các giá trị bất thường.\n",
    "+ Tóm tắt các thống kê cơ bản như trung bình, giá trị nhỏ nhất/lớn nhất, phương sai, ...\n",
    "\n",
    "(Bước này làm giống format HW2)\n",
    "\n",
    "2. Xử lý dữ liệu thiếu  (Handling Missing Data):\n",
    "Dữ liệu thiếu thường gây sai lệch trong phân tích. Chúng ta sẽ điền giá trị bị thiếu bằng các phương pháp như:\n",
    "+ Giá trị trung bình/median.\n",
    "+ Thuật toán Machine Learning. Ae chú ý là cần áp dụng đúng model, ví dụ như đối với kiểu dữ liệu là Category (phân lớp) thì nên sử dụng KNN, hoặc int64 (Liên tục) thì xài Linear Regression,....\n",
    "+ Hoặc loại bỏ các dòng/cột chứa quá nhiều giá trị bị thiếu nếu cần thiết.\n",
    "\n",
    "3. Xử lý dữ liệu nhiễu: Loại bỏ các giá trị bất thường (outliers) để đảm bảo dữ liệu sạch (Sử dụng  phương pháp như IQR (Interquartile Range) để phát hiện và loại bỏ những giá trị nằm ngoài phạm vi hợp lý.)\n",
    "\n",
    "4. Chuẩn hóa kiểu dữ liệu:\n",
    "- Chuyển đổi dữ liệu về đúng kiểu cần thiết (ví dụ: chuyển đổi ngày tháng, số nguyên, số thực).\n",
    "- Mã hóa dữ liệu phân loại (categorical data) thành dạng số, phù hợp với mô hình (Label Encoding hoặc One-hot Encoding). (nếu cảm thấy cần thiết)\n",
    "P/s: Thứ tự các bước trên có thể thay đổi, tùy theo ae thiết kế\n",
    "\n",
    "\n",
    "## B. Giảm chiều dữ liệu(Dimensionality Reduction): Giảm độ phức tạp\n",
    "1..Khám phá dữ liệu (Tiếp theo):\n",
    "- Trực quan hóa mối quan hệ giữa các biến để xác định những biến dư thừa, không cần thiết.\n",
    "- Sử dụng ma trận tương quan (Correlation Matrix) để xem xét độ tương quan giữa các biến:\n",
    "  - Loại bỏ các biến có độ tương quan cao (vì có thể gây trùng lặp thông tin).\n",
    "  - Giữ lại các biến quan trọng nhất để giảm độ phức tạp và tăng hiệu quả phân tích.\n",
    "\n",
    "## C. Chuẩn hóa dữ liệu (Nếu còn thời gian)\n",
    "- Min-Max Scaling: Đưa dữ liệu về khoảng [0, 1].\n",
    "- Z-score Standardization: Chuẩn hóa dữ liệu thành phân phối chuẩn với trung bình bằng 0 và phương sai bằng 1.\n",
    "- Robust Scaling: Loại bỏ tác động của các giá trị ngoại lai khi chuẩn hóa.\n",
    "- Decimal Scaling: Chia giá trị cho lũy thừa của 10 để thu hẹp giá trị dữ liệu.\n",
    "\n",
    "## D. Rời rạc hóa dữ liệu (Tìm hiểu thêm)\n",
    "\n",
    "## E. Lưu dữ liệu sạch: Dữ liệu sau khi tiền xử lý sẽ được lưu lại để sử dụng trong các giai đoạn phân tích tiếp theo."
   ]
  },
  {
   "cell_type": "markdown",
   "metadata": {
    "id": "wWRiE0LMMmKq"
   },
   "source": [
    "# Import các thư viện cần thiết\n"
   ]
  },
  {
   "cell_type": "code",
   "execution_count": 8,
   "metadata": {
    "id": "0rRJUzwBMfmn"
   },
   "outputs": [],
   "source": [
    "import requests\n",
    "import json\n",
    "import pandas as pd\n",
    "import numpy as np\n",
    "import time\n",
    "import datetime\n",
    "import calendar\n",
    "import seaborn as sns\n",
    "import matplotlib.pyplot as plt"
   ]
  },
  {
   "cell_type": "markdown",
   "metadata": {
    "id": "Nrr_EUZtVDt3"
   },
   "source": [
    "# A.1. Khám phá dữ liệu"
   ]
  },
  {
   "cell_type": "markdown",
   "metadata": {},
   "source": [
    "Đọc file dữ liệu ban đầu chưa xử lí từ raw_data"
   ]
  },
  {
   "cell_type": "code",
   "execution_count": 9,
   "metadata": {},
   "outputs": [
    {
     "data": {
      "text/html": [
       "<div>\n",
       "<style scoped>\n",
       "    .dataframe tbody tr th:only-of-type {\n",
       "        vertical-align: middle;\n",
       "    }\n",
       "\n",
       "    .dataframe tbody tr th {\n",
       "        vertical-align: top;\n",
       "    }\n",
       "\n",
       "    .dataframe thead th {\n",
       "        text-align: right;\n",
       "    }\n",
       "</style>\n",
       "<table border=\"1\" class=\"dataframe\">\n",
       "  <thead>\n",
       "    <tr style=\"text-align: right;\">\n",
       "      <th></th>\n",
       "      <th>match_id</th>\n",
       "      <th>home_total_shots</th>\n",
       "      <th>home_shots_off_target</th>\n",
       "      <th>home_shots_saved</th>\n",
       "      <th>home_corners</th>\n",
       "      <th>home_free_kicks</th>\n",
       "      <th>home_offsides</th>\n",
       "      <th>home_fouls</th>\n",
       "      <th>away_total_shots</th>\n",
       "      <th>away_shots_off_target</th>\n",
       "      <th>away_shots_saved</th>\n",
       "      <th>away_corners</th>\n",
       "      <th>away_free_kicks</th>\n",
       "      <th>away_offsides</th>\n",
       "      <th>away_fouls</th>\n",
       "      <th>home_yellow_cards</th>\n",
       "      <th>home_red_cards</th>\n",
       "      <th>away_yellow_cards</th>\n",
       "      <th>away_red_cards</th>\n",
       "    </tr>\n",
       "  </thead>\n",
       "  <tbody>\n",
       "    <tr>\n",
       "      <th>0</th>\n",
       "      <td>3050176</td>\n",
       "      <td>4.0</td>\n",
       "      <td>5.0</td>\n",
       "      <td>3.0</td>\n",
       "      <td>3.0</td>\n",
       "      <td>10.0</td>\n",
       "      <td>7.0</td>\n",
       "      <td>2.0</td>\n",
       "      <td>5.0</td>\n",
       "      <td>1.0</td>\n",
       "      <td>2.0</td>\n",
       "      <td>6.0</td>\n",
       "      <td>9.0</td>\n",
       "      <td>7.0</td>\n",
       "      <td>3.0</td>\n",
       "      <td>0.0</td>\n",
       "      <td>0.0</td>\n",
       "      <td>1.0</td>\n",
       "      <td>1.0</td>\n",
       "    </tr>\n",
       "    <tr>\n",
       "      <th>1</th>\n",
       "      <td>3050173</td>\n",
       "      <td>2.0</td>\n",
       "      <td>8.0</td>\n",
       "      <td>4.0</td>\n",
       "      <td>3.0</td>\n",
       "      <td>12.0</td>\n",
       "      <td>11.0</td>\n",
       "      <td>1.0</td>\n",
       "      <td>6.0</td>\n",
       "      <td>6.0</td>\n",
       "      <td>1.0</td>\n",
       "      <td>5.0</td>\n",
       "      <td>12.0</td>\n",
       "      <td>12.0</td>\n",
       "      <td>0.0</td>\n",
       "      <td>2.0</td>\n",
       "      <td>0.0</td>\n",
       "      <td>2.0</td>\n",
       "      <td>0.0</td>\n",
       "    </tr>\n",
       "    <tr>\n",
       "      <th>2</th>\n",
       "      <td>3050175</td>\n",
       "      <td>5.0</td>\n",
       "      <td>7.0</td>\n",
       "      <td>1.0</td>\n",
       "      <td>8.0</td>\n",
       "      <td>19.0</td>\n",
       "      <td>13.0</td>\n",
       "      <td>0.0</td>\n",
       "      <td>1.0</td>\n",
       "      <td>6.0</td>\n",
       "      <td>2.0</td>\n",
       "      <td>2.0</td>\n",
       "      <td>13.0</td>\n",
       "      <td>16.0</td>\n",
       "      <td>3.0</td>\n",
       "      <td>2.0</td>\n",
       "      <td>0.0</td>\n",
       "      <td>2.0</td>\n",
       "      <td>0.0</td>\n",
       "    </tr>\n",
       "    <tr>\n",
       "      <th>3</th>\n",
       "      <td>3050171</td>\n",
       "      <td>8.0</td>\n",
       "      <td>4.0</td>\n",
       "      <td>2.0</td>\n",
       "      <td>5.0</td>\n",
       "      <td>12.0</td>\n",
       "      <td>14.0</td>\n",
       "      <td>5.0</td>\n",
       "      <td>2.0</td>\n",
       "      <td>2.0</td>\n",
       "      <td>4.0</td>\n",
       "      <td>4.0</td>\n",
       "      <td>19.0</td>\n",
       "      <td>9.0</td>\n",
       "      <td>3.0</td>\n",
       "      <td>1.0</td>\n",
       "      <td>0.0</td>\n",
       "      <td>2.0</td>\n",
       "      <td>0.0</td>\n",
       "    </tr>\n",
       "    <tr>\n",
       "      <th>4</th>\n",
       "      <td>3050170</td>\n",
       "      <td>2.0</td>\n",
       "      <td>4.0</td>\n",
       "      <td>1.0</td>\n",
       "      <td>2.0</td>\n",
       "      <td>9.0</td>\n",
       "      <td>8.0</td>\n",
       "      <td>2.0</td>\n",
       "      <td>4.0</td>\n",
       "      <td>2.0</td>\n",
       "      <td>2.0</td>\n",
       "      <td>5.0</td>\n",
       "      <td>10.0</td>\n",
       "      <td>8.0</td>\n",
       "      <td>1.0</td>\n",
       "      <td>2.0</td>\n",
       "      <td>0.0</td>\n",
       "      <td>1.0</td>\n",
       "      <td>0.0</td>\n",
       "    </tr>\n",
       "  </tbody>\n",
       "</table>\n",
       "</div>"
      ],
      "text/plain": [
       "   match_id  home_total_shots  home_shots_off_target  home_shots_saved  \\\n",
       "0   3050176               4.0                    5.0               3.0   \n",
       "1   3050173               2.0                    8.0               4.0   \n",
       "2   3050175               5.0                    7.0               1.0   \n",
       "3   3050171               8.0                    4.0               2.0   \n",
       "4   3050170               2.0                    4.0               1.0   \n",
       "\n",
       "   home_corners  home_free_kicks  home_offsides  home_fouls  away_total_shots  \\\n",
       "0           3.0             10.0            7.0         2.0               5.0   \n",
       "1           3.0             12.0           11.0         1.0               6.0   \n",
       "2           8.0             19.0           13.0         0.0               1.0   \n",
       "3           5.0             12.0           14.0         5.0               2.0   \n",
       "4           2.0              9.0            8.0         2.0               4.0   \n",
       "\n",
       "   away_shots_off_target  away_shots_saved  away_corners  away_free_kicks  \\\n",
       "0                    1.0               2.0           6.0              9.0   \n",
       "1                    6.0               1.0           5.0             12.0   \n",
       "2                    6.0               2.0           2.0             13.0   \n",
       "3                    2.0               4.0           4.0             19.0   \n",
       "4                    2.0               2.0           5.0             10.0   \n",
       "\n",
       "   away_offsides  away_fouls  home_yellow_cards  home_red_cards  \\\n",
       "0            7.0         3.0                0.0             0.0   \n",
       "1           12.0         0.0                2.0             0.0   \n",
       "2           16.0         3.0                2.0             0.0   \n",
       "3            9.0         3.0                1.0             0.0   \n",
       "4            8.0         1.0                2.0             0.0   \n",
       "\n",
       "   away_yellow_cards  away_red_cards  \n",
       "0                1.0             1.0  \n",
       "1                2.0             0.0  \n",
       "2                2.0             0.0  \n",
       "3                2.0             0.0  \n",
       "4                1.0             0.0  "
      ]
     },
     "execution_count": 9,
     "metadata": {},
     "output_type": "execute_result"
    }
   ],
   "source": [
    "raw_match_statistics = pd.read_csv('./data/raw_data/match_statistics.csv', delimiter='\\t')\n",
    "raw_match_statistics.head()"
   ]
  },
  {
   "cell_type": "markdown",
   "metadata": {
    "id": "28iqSXDOVQiO"
   },
   "source": [
    "Dữ liệu có bao nhiêu hàng, bao nhiêu cột?\n",
    "\n"
   ]
  },
  {
   "cell_type": "code",
   "execution_count": 10,
   "metadata": {},
   "outputs": [
    {
     "name": "stdout",
     "output_type": "stream",
     "text": [
      "Số dòng: 3800\n",
      "Số cột: 19\n"
     ]
    }
   ],
   "source": [
    "num_rows, num_cols = raw_match_statistics.shape\n",
    "print(f'Số dòng: {num_rows}')\n",
    "print(f'Số cột: {num_cols}')"
   ]
  },
  {
   "cell_type": "markdown",
   "metadata": {
    "id": "iA-vG8UCVZVj"
   },
   "source": [
    "Dữ liệu các dòng có bị lặp không?"
   ]
  },
  {
   "cell_type": "code",
   "execution_count": 11,
   "metadata": {},
   "outputs": [
    {
     "name": "stdout",
     "output_type": "stream",
     "text": [
      "Số dòng bị lặp: 0\n"
     ]
    }
   ],
   "source": [
    "duplicates = raw_match_statistics.duplicated()\n",
    "print(f\"Số dòng bị lặp: {duplicates.sum()}\")"
   ]
  },
  {
   "cell_type": "markdown",
   "metadata": {
    "id": "sziz4Ka5Vacb"
   },
   "source": [
    "Ý nghĩa của các cột dữ liệu"
   ]
  },
  {
   "cell_type": "markdown",
   "metadata": {
    "id": "C5ZRFcbvVs2Z"
   },
   "source": [
    "Tỷ lệ thiếu dữ liệu"
   ]
  },
  {
   "cell_type": "markdown",
   "metadata": {
    "id": "4fHBzB_nV3y-"
   },
   "source": [
    "Tóm tắt các thống kê cơ bản như trung bình, giá trị nhỏ nhất/lớn nhất, phương sai"
   ]
  },
  {
   "cell_type": "markdown",
   "metadata": {
    "id": "7adPCSZXWWzY"
   },
   "source": [
    "# A.2.Xử lý dữ liệu thiếu\n",
    "Cái này ae tự tạo cell trình bày giống trong HW2, hoặc có thể thiết kế theo ý muốn, miễn sao tối đa hóa việc xử lý sao cho chuẩn chỉnh\n"
   ]
  },
  {
   "cell_type": "markdown",
   "metadata": {
    "id": "giZIXMtGWpVX"
   },
   "source": [
    "# A.3. Xử lý dữ liệu nhiễu\n",
    "\n",
    "Sử dụng phương pháp IQR, đơn giản là phát hiện điểm dữ liệu nằm bên ngoài khoảng tứ phân vị thì loại **bỏ**"
   ]
  },
  {
   "cell_type": "markdown",
   "metadata": {
    "id": "F3Ca33dBXDBt"
   },
   "source": [
    "Có gì ae tự tạo cell thêm tương ứng với cái section đã ghi trên mục đầu, những cái đã trình bày trên chỉ là format chung, mỗi người có thể thay đổi cell và trình bày tùy ý, mục đích chung là tối đa hóa việc làm sạch dữ liệu"
   ]
  },
  {
   "cell_type": "code",
   "execution_count": null,
   "metadata": {
    "id": "mgu0cPrOV5Hx"
   },
   "outputs": [],
   "source": []
  }
 ],
 "metadata": {
  "colab": {
   "provenance": []
  },
  "kernelspec": {
   "display_name": "Python 3",
   "name": "python3"
  },
  "language_info": {
   "codemirror_mode": {
    "name": "ipython",
    "version": 3
   },
   "file_extension": ".py",
   "mimetype": "text/x-python",
   "name": "python",
   "nbconvert_exporter": "python",
   "pygments_lexer": "ipython3",
   "version": "3.12.6"
  }
 },
 "nbformat": 4,
 "nbformat_minor": 0
}
