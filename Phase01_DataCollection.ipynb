{
 "cells": [
  {
   "cell_type": "markdown",
   "metadata": {
    "id": "M21P56RyR1Qj"
   },
   "source": [
    "<center> ĐỒ ÁN THỰC HÀNH - Football Match Analysis\n",
    "\n",
    "## NHÓM: 07\n",
    "|<center><div style=\"width:150px\">MSSV</div><center>|<center><div style=\"width:290px\">Họ và tên</div><center>|\n",
    "|---------- |:-------------:|\n",
    "| <center>22127011 <center>  |<center>Hà Tuấn Anh<center> |\n",
    "| <center>22127066<center>  | <center>Phạm Anh Đấu<center> |\n",
    "| <center>22127383<center>  |   <center>Nguyễn Thành Thái<center>   |\n",
    "| <center>22127451<center>  |<center>Phan Thị Tường Vi<center> |\n",
    "\n",
    "\n",
    "# PHẦN 1. THU THẬP DỮ LIỆU"
   ]
  },
  {
   "cell_type": "markdown",
   "metadata": {
    "id": "4htak6pdUEj0"
   },
   "source": [
    "- Trong những năm gần đây, bóng đá không chỉ là môn thể thao vua mà còn là lĩnh vực phân tích dữ liệu sôi nổi, thu hút sự chú ý của các nhà khoa học dữ liệu trên toàn cầu. Theo báo cáo Deloitte năm 2023, các câu lạc bộ lớn ngày càng áp dụng phân tích dữ liệu để tối ưu hóa chuyển nhượng, cải thiện chiến thuật và nâng cao hiệu suất thi đấu.\n",
    "- Đặc biệt, Giải Ngoại hạng Anh (EPL) là lựa chọn lý tưởng để phân tích dữ liệu vì đây là giải đấu hấp dẫn nhất với tính cạnh tranh cao và lượng dữ liệu phong phú. Theo Deloitte 2023, các câu lạc bộ EPL đi đầu trong việc ứng dụng dữ liệu để tối ưu chiến thuật và nâng cao hiệu suất thi đấu. Tính đồng đều và biến động của các đội tại EPL cũng tạo ra thách thức thú vị trong dự đoán kết quả.\n",
    "\n",
    "$→$ Vì vậy, nhóm chúng em chọn EPL để thu thập và phân tích dữ liệu với mục tiêu xác định các yếu tố quan trọng ảnh hưởng đến kết quả trận đấu, từ đó xây dựng mô hình dự đoán đội nào có khả năng thắng cao hơn trong mỗi trận. Phân tích này sẽ giúp mang lại cái nhìn sâu sắc hơn về lối chơi và sức mạnh của từng đội, đồng thời hỗ trợ người hâm mộ và chuyên gia trong việc dự đoán kết quả một cách chính xác hơn."
   ]
  },
  {
   "cell_type": "markdown",
   "metadata": {
    "id": "GdvgVJ7kaYxt"
   },
   "source": [
    "## Các bước thu thập dữ liệu\n",
    "\n",
    "Nhóm sẽ thu thập dữ liệu bóng đá từ năm 2014-2023\n",
    "\n",
    "### 1. Thu thập đường link trận đấu từ trang chủ\n",
    "- Trên trang chủ của website Transfermarkt, chúng ta sẽ tìm:\n",
    "    - Liên kết dẫn đến các trang chi tiết của các trận đấu trong từng mùa giải và lưu trong file **match_pool.csv**\n",
    "    - Liên kết dẫn đến thứ hạng của các đội bóng trong từng mùa giải và lưu trong file **ranking_pool.csv**\n",
    "    - Liên kết dẫn đến thông tin chung của các đội bóng trong từng mùa giải và lưu trong file **profile_pool.csv**\n",
    "\n",
    "### 2. Truy cập vào từng trang chi tiết để lấy thông tin chi tiết\n",
    "- Trang chi tiết trận đấu: Lấy thông tin về ngày, sân vận động, đội chủ nhà, đội khách, tỷ lệ kiểm soát bóng, số lần sút, thẻ phạt, phạt góc, và kết quả trận đấu. Lưu vào **match_statistics.csv** và **match_overview.csv**.\n",
    "- Trang thứ hạng đội bóng: Thu thập vị trí xếp hạng, điểm số, số trận thắng, hòa, thua và hiệu số bàn thắng. Lưu vào **team_rankings.csv**.\n",
    "- Trang thông tin đội bóng: Thu thập thông tin về đội hình, độ tuổi trung bình, số cầu thủ nước ngoài, giá trị thị trường của đội. Lưu vào **team_profile.csv**."
   ]
  },
  {
   "cell_type": "markdown",
   "metadata": {
    "id": "dcw_7ghoWkdD"
   },
   "source": [
    "## Giải thích tổng quan về dữ liệu được thu thập\n",
    "\n",
    "### 1. Thông tin tổng quan trận đấu (match_overview.csv):\n",
    "- Lưu trữ các chi tiết cơ bản về từng trận đấu, như ID trận, ngày diễn ra, mùa giải, vòng đấu, sân vận động, đội chủ nhà và đội khách, sơ đồ đội hình, tỷ số, và thông tin trọng tài.\n",
    "- Là dữ liệu nền tảng, giúp nhóm theo dõi và kết nối các chỉ số cụ thể của từng trận đấu.\n",
    "\n",
    "### 2. Thống kê trận đấu (match_statistics.csv):\n",
    "- Chứa các thống kê chi tiết về mỗi trận đấu, như tỷ lệ kiểm soát bóng, số lần sút, sút trúng đích, số lần việt vị, phạm lỗi, số thẻ phạt (vàng, đỏ), và số quả phạt góc của cả đội chủ nhà và đội khách.\n",
    "- Dữ liệu này cung cấp cái nhìn sâu sắc về diễn biến và chiến thuật trong trận đấu, giúp đánh giá hiệu suất của mỗi đội.\n",
    "\n",
    "### 3. Thứ hạng đội bóng theo mùa giải (team_rankings.csv):\n",
    "- Lưu trữ thứ hạng và kết quả của mỗi đội sau từng mùa giải, bao gồm điểm số, số trận thắng, hòa, thua, tổng bàn thắng và bàn thua.\n",
    "- Dữ liệu này phản ánh phong độ dài hạn và độ ổn định của từng đội qua các mùa giải EPL.\n",
    "\n",
    "### 4. Thông tin đội bóng qua các mùa giải (team_profile.csv):\n",
    "- Bao gồm các thông tin tổng quan về đội bóng, như số lượng cầu thủ, độ tuổi trung bình, số cầu thủ nước ngoài, giá trị thị trường trung bình và tổng giá trị đội bóng.\n",
    "- Các dữ liệu này cung cấp bối cảnh về cấu trúc và tiềm lực của đội bóng, giúp phân tích mối quan hệ giữa đặc điểm đội hình với thành tích thi đấu."
   ]
  },
  {
   "cell_type": "markdown",
   "metadata": {
    "id": "8A9FoODdWFDC"
   },
   "source": [
    "## Import thư viện"
   ]
  },
  {
   "cell_type": "code",
   "execution_count": 1,
   "metadata": {
    "id": "lQfJzoNOWIa4"
   },
   "outputs": [],
   "source": [
    "import requests\n",
    "from bs4 import BeautifulSoup\n",
    "import csv\n",
    "import pandas as pd\n",
    "import time\n",
    "import datetime\n",
    "import calendar\n",
    "import matplotlib.pyplot as plt\n",
    "\n",
    "\n",
    "# Sử dụng cái này khi request đến link cần crawl\n",
    "# để đảm bảo request được nhiều query trong 1 lần\n",
    "from concurrent.futures import ThreadPoolExecutor, as_completed\n",
    "from multiprocessing import Pool, cpu_count"
   ]
  },
  {
   "cell_type": "markdown",
   "metadata": {
    "id": "4Qz_V3XdcKX5"
   },
   "source": [
    "## Thu thập dữ liệu"
   ]
  },
  {
   "cell_type": "markdown",
   "metadata": {
    "id": "jixUoCesc4oJ"
   },
   "source": [
    "## Thu thập **match_pool.csv** (https://www.transfermarkt.com/premier-league/gesamtspielplan/wettbewerb/GB1/saison_id/2023)"
   ]
  },
  {
   "cell_type": "code",
   "execution_count": null,
   "metadata": {
    "id": "C5l8t-ggdTVc"
   },
   "outputs": [],
   "source": []
  },
  {
   "cell_type": "markdown",
   "metadata": {
    "id": "8-qWMvyadDYA"
   },
   "source": [
    "## Thu thập **ranking_pool.csv** (https://www.transfermarkt.com/premier-league/tabelle/wettbewerb/GB1/saison_id/2023)"
   ]
  },
  {
   "cell_type": "code",
   "execution_count": null,
   "metadata": {
    "id": "igksa-aOdTri"
   },
   "outputs": [],
   "source": []
  },
  {
   "cell_type": "markdown",
   "metadata": {
    "id": "9wJMed5KdOUK"
   },
   "source": [
    "## Thu thập **profile_pool.csv** (https://www.transfermarkt.com/premier-league/startseite/wettbewerb/GB1/plus/?saison_id=2023)"
   ]
  },
  {
   "cell_type": "code",
   "execution_count": 4,
   "metadata": {
    "id": "f50HhiMldSc4"
   },
   "outputs": [],
   "source": [
    "def get_profile_season(start =2014, end =2023):\n",
    "    all_season_links = []\n",
    "    for ss in range(start, end + 1):\n",
    "         season_url = f\"https://www.transfermarkt.com/premier-league/startseite/wettbewerb/GB1/plus/?saison_id={ss}\"\n",
    "         all_season_links.append(season_url)\n",
    "         \n",
    "    return pd.DataFrame(all_season_links)\n",
    "        \n",
    "all_season_links = get_profile_season()\n",
    "all_season_links.to_csv('./data/raw_data/profile_pool.csv', sep='\\t', encoding='utf-8', index=False, header=False)\n"
   ]
  },
  {
   "cell_type": "markdown",
   "metadata": {},
   "source": [
    "## Thu thập team_profile.csv"
   ]
  },
  {
   "cell_type": "code",
   "execution_count": 5,
   "metadata": {},
   "outputs": [],
   "source": [
    "def collect_team_profile_data(file_path):\n",
    "\n",
    "    with open(file_path, mode='r') as file:\n",
    "      reader = csv.reader(file)\n",
    "      urls = [row[0] for row in reader]\n",
    "\n",
    "    seasons, clubs, squad_size, avg_age, foreigners, avg_market_value, total_market_value = [], [], [], [], [], [], []\n",
    "\n",
    "    # dùng để giả lập trup cập từ một trình duyệt web vì trang chặn bot hoặc script tự động\n",
    "    headers = {\n",
    "    'User-Agent': 'Mozilla/5.0 (Windows NT 10.0; Win64; x64) AppleWebKit/537.36 (KHTML, like Gecko) Chrome/91.0.4472.124 Safari/537.36'\n",
    "    }\n",
    "\n",
    "    for url in urls:\n",
    "        response = requests.get(url, headers=headers)\n",
    "\n",
    "        if response.status_code == 200:\n",
    "            soup = BeautifulSoup(response.content, 'html.parser')\n",
    "\n",
    "            #get season\n",
    "            season_element = soup.find_all('h2', class_= 'content-box-headline')\n",
    "            season = season_element[1].text.strip().split()[-1]\n",
    "\n",
    "            # get other\n",
    "            table_element = soup.find('table', class_= 'items')\n",
    "            data_elements = table_element.find_all('tr', class_= ['odd selected','even', 'odd'])\n",
    "\n",
    "            for team_data in data_elements:\n",
    "                  name_element = team_data.find('td', class_= 'hauptlink no-border-links')\n",
    "                  #get club name\n",
    "                  club_name = name_element.text.strip()\n",
    "\n",
    "                  #get club name\n",
    "                  other_data_elements = team_data.find_all('td', class_= 'zentriert')\n",
    "                  squad = other_data_elements[1].text.strip()\n",
    "                  age = other_data_elements[2].text.strip()\n",
    "                  foreigners_count = other_data_elements[3].text.strip()\n",
    "\n",
    "                  #get value data\n",
    "                  value_data_elements = team_data.find_all('td', class_= 'rechts')\n",
    "                  values = [element.text.strip() for element in value_data_elements]\n",
    "                  market_val = values[0]\n",
    "                  total_market_val = values[1]\n",
    "\n",
    "                  seasons.append(season)\n",
    "                  clubs.append(club_name)\n",
    "                  squad_size.append(squad)\n",
    "                  avg_age.append(age)\n",
    "                  foreigners.append(foreigners_count)\n",
    "                  avg_market_value.append(market_val)\n",
    "                  total_market_value.append(total_market_val)\n",
    "\n",
    "\n",
    "            data = pd.DataFrame({\n",
    "                'Season': seasons,\n",
    "                'Club': clubs,\n",
    "                'Squad': squad_size,\n",
    "                'Average age': avg_age,\n",
    "                'Foreigners': foreigners,\n",
    "                'Average market value': avg_market_value,\n",
    "                'Total market value': total_market_value\n",
    "              })\n",
    "        else:\n",
    "              print(f'Failed to retrieve the page. Status code: {response.status_code}')\n",
    "              data = None\n",
    "\n",
    "    return data"
   ]
  },
  {
   "cell_type": "code",
   "execution_count": 6,
   "metadata": {},
   "outputs": [],
   "source": [
    "team_profile_data = collect_team_profile_data('./data/raw_data/profile_pool.csv')\n",
    "team_profile_data.to_csv('./data/raw_data/team_profile.csv', sep='\\t', encoding='utf-8', index=False, header=True)"
   ]
  }
 ],
 "metadata": {
  "colab": {
   "provenance": [],
   "toc_visible": true
  },
  "kernelspec": {
   "display_name": "min_ds-env",
   "language": "python",
   "name": "python3"
  },
  "language_info": {
   "codemirror_mode": {
    "name": "ipython",
    "version": 3
   },
   "file_extension": ".py",
   "mimetype": "text/x-python",
   "name": "python",
   "nbconvert_exporter": "python",
   "pygments_lexer": "ipython3",
   "version": "3.13.0"
  }
 },
 "nbformat": 4,
 "nbformat_minor": 0
}
