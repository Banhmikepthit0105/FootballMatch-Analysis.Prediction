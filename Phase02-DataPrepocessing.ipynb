{
 "cells": [
  {
   "cell_type": "markdown",
   "metadata": {
    "id": "wn5o_9GqMd1i"
   },
   "source": [
    "# <center> PHẦN 2. KHÁM PHÁ DỮ LIỆU & ĐẶT CÂU HỎI"
   ]
  },
  {
   "cell_type": "markdown",
   "metadata": {
    "id": "iEDuLCZAOnJG"
   },
   "source": [
    "# Tổng quan về tiền xử lý dữ liệu\n",
    "Mục tiêu chính:\n",
    "## A. Làm sạch dữ liệu (Exploratory Data Analysis - EDA):\n",
    "1. Khám phá dữ liệu: Đưa ra những đánh giá đầu tiên về dữ liệu để hiểu cấu trúc và ý nghĩa của chúng.\n",
    "Trước khi xử lý, chúng ta cần hiểu rõ cấu trúc và nội dung của dữ liệu. Các hoạt động bao gồm:\n",
    "\n",
    "+ Kiểm tra số lượng dòng, cột.\n",
    "Xác định kiểu dữ liệu của từng cột (số, phân loại, ngày tháng, ...).\n",
    "+ Kiểm tra tỷ lệ dữ liệu bị thiếu, các giá trị bất thường.\n",
    "+ Tóm tắt các thống kê cơ bản như trung bình, giá trị nhỏ nhất/lớn nhất, phương sai, ...\n",
    "\n",
    "(Bước này làm giống format HW2)\n",
    "\n",
    "2. Xử lý dữ liệu thiếu  (Handling Missing Data):\n",
    "Dữ liệu thiếu thường gây sai lệch trong phân tích. Chúng ta sẽ điền giá trị bị thiếu bằng các phương pháp như:\n",
    "+ Giá trị trung bình/median.\n",
    "+ Thuật toán Machine Learning. Ae chú ý là cần áp dụng đúng model, ví dụ như đối với kiểu dữ liệu là Category (phân lớp) thì nên sử dụng KNN, hoặc int64 (Liên tục) thì xài Linear Regression,....\n",
    "+ Hoặc loại bỏ các dòng/cột chứa quá nhiều giá trị bị thiếu nếu cần thiết.\n",
    "\n",
    "3. Xử lý dữ liệu nhiễu: Loại bỏ các giá trị bất thường (outliers) để đảm bảo dữ liệu sạch (Sử dụng  phương pháp như IQR (Interquartile Range) để phát hiện và loại bỏ những giá trị nằm ngoài phạm vi hợp lý.)\n",
    "\n",
    "4. Chuẩn hóa kiểu dữ liệu:\n",
    "- Chuyển đổi dữ liệu về đúng kiểu cần thiết (ví dụ: chuyển đổi ngày tháng, số nguyên, số thực).\n",
    "- Mã hóa dữ liệu phân loại (categorical data) thành dạng số, phù hợp với mô hình (Label Encoding hoặc One-hot Encoding). (nếu cảm thấy cần thiết)\n",
    "P/s: Thứ tự các bước trên có thể thay đổi, tùy theo ae thiết kế\n",
    "\n",
    "\n",
    "## B. Giảm chiều dữ liệu(Dimensionality Reduction): Giảm độ phức tạp\n",
    "1..Khám phá dữ liệu (Tiếp theo):\n",
    "- Trực quan hóa mối quan hệ giữa các biến để xác định những biến dư thừa, không cần thiết.\n",
    "- Sử dụng ma trận tương quan (Correlation Matrix) để xem xét độ tương quan giữa các biến:\n",
    "  - Loại bỏ các biến có độ tương quan cao (vì có thể gây trùng lặp thông tin).\n",
    "  - Giữ lại các biến quan trọng nhất để giảm độ phức tạp và tăng hiệu quả phân tích.\n",
    "\n",
    "## C. Chuẩn hóa dữ liệu (Nếu còn thời gian)\n",
    "- Min-Max Scaling: Đưa dữ liệu về khoảng [0, 1].\n",
    "- Z-score Standardization: Chuẩn hóa dữ liệu thành phân phối chuẩn với trung bình bằng 0 và phương sai bằng 1.\n",
    "- Robust Scaling: Loại bỏ tác động của các giá trị ngoại lai khi chuẩn hóa.\n",
    "- Decimal Scaling: Chia giá trị cho lũy thừa của 10 để thu hẹp giá trị dữ liệu.\n",
    "\n",
    "## D. Rời rạc hóa dữ liệu (Tìm hiểu thêm)\n",
    "\n",
    "## E. Lưu dữ liệu sạch: Dữ liệu sau khi tiền xử lý sẽ được lưu lại để sử dụng trong các giai đoạn phân tích tiếp theo."
   ]
  },
  {
   "cell_type": "markdown",
   "metadata": {
    "id": "wWRiE0LMMmKq"
   },
   "source": [
    "# Import các thư viện cần thiết\n"
   ]
  },
  {
   "cell_type": "code",
   "execution_count": 1,
   "metadata": {
    "id": "0rRJUzwBMfmn"
   },
   "outputs": [],
   "source": [
    "import requests\n",
    "import json\n",
    "import pandas as pd\n",
    "import numpy as np\n",
    "import time\n",
    "import datetime\n",
    "import calendar\n",
    "import seaborn as sns\n",
    "import matplotlib.pyplot as plt"
   ]
  },
  {
   "cell_type": "markdown",
   "metadata": {
    "id": "Nrr_EUZtVDt3"
   },
   "source": [
    "## A.1. Khám phá dữ liệu"
   ]
  },
  {
   "cell_type": "markdown",
   "metadata": {},
   "source": [
    "**Đọc file dữ liệu ban đầu chưa xử lí từ raw_data**"
   ]
  },
  {
   "cell_type": "code",
   "execution_count": 2,
   "metadata": {},
   "outputs": [
    {
     "data": {
      "text/html": [
       "<div>\n",
       "<style scoped>\n",
       "    .dataframe tbody tr th:only-of-type {\n",
       "        vertical-align: middle;\n",
       "    }\n",
       "\n",
       "    .dataframe tbody tr th {\n",
       "        vertical-align: top;\n",
       "    }\n",
       "\n",
       "    .dataframe thead th {\n",
       "        text-align: right;\n",
       "    }\n",
       "</style>\n",
       "<table border=\"1\" class=\"dataframe\">\n",
       "  <thead>\n",
       "    <tr style=\"text-align: right;\">\n",
       "      <th></th>\n",
       "      <th>Season</th>\n",
       "      <th>Club</th>\n",
       "      <th>Squad</th>\n",
       "      <th>Average age</th>\n",
       "      <th>Foreigners</th>\n",
       "      <th>Average market value</th>\n",
       "      <th>Total market value</th>\n",
       "    </tr>\n",
       "  </thead>\n",
       "  <tbody>\n",
       "    <tr>\n",
       "      <th>0</th>\n",
       "      <td>14/15</td>\n",
       "      <td>Chelsea FC</td>\n",
       "      <td>38.0</td>\n",
       "      <td>25.4</td>\n",
       "      <td>28.0</td>\n",
       "      <td>€14.66m</td>\n",
       "      <td>€557.25m</td>\n",
       "    </tr>\n",
       "    <tr>\n",
       "      <th>1</th>\n",
       "      <td>14/15</td>\n",
       "      <td>Manchester United</td>\n",
       "      <td>43.0</td>\n",
       "      <td>25.4</td>\n",
       "      <td>26.0</td>\n",
       "      <td>€11.75m</td>\n",
       "      <td>€505.40m</td>\n",
       "    </tr>\n",
       "    <tr>\n",
       "      <th>2</th>\n",
       "      <td>14/15</td>\n",
       "      <td>Manchester City</td>\n",
       "      <td>34.0</td>\n",
       "      <td>27.1</td>\n",
       "      <td>27.0</td>\n",
       "      <td>€13.18m</td>\n",
       "      <td>€448.25m</td>\n",
       "    </tr>\n",
       "    <tr>\n",
       "      <th>3</th>\n",
       "      <td>14/15</td>\n",
       "      <td>Arsenal FC</td>\n",
       "      <td>42.0</td>\n",
       "      <td>24.5</td>\n",
       "      <td>29.0</td>\n",
       "      <td>€9.88m</td>\n",
       "      <td>€414.75m</td>\n",
       "    </tr>\n",
       "    <tr>\n",
       "      <th>4</th>\n",
       "      <td>14/15</td>\n",
       "      <td>Liverpool FC</td>\n",
       "      <td>35.0</td>\n",
       "      <td>24.8</td>\n",
       "      <td>21.0</td>\n",
       "      <td>€9.28m</td>\n",
       "      <td>€324.85m</td>\n",
       "    </tr>\n",
       "  </tbody>\n",
       "</table>\n",
       "</div>"
      ],
      "text/plain": [
       "  Season               Club  Squad  Average age  Foreigners  \\\n",
       "0  14/15         Chelsea FC   38.0         25.4        28.0   \n",
       "1  14/15  Manchester United   43.0         25.4        26.0   \n",
       "2  14/15    Manchester City   34.0         27.1        27.0   \n",
       "3  14/15         Arsenal FC   42.0         24.5        29.0   \n",
       "4  14/15       Liverpool FC   35.0         24.8        21.0   \n",
       "\n",
       "  Average market value Total market value  \n",
       "0              €14.66m           €557.25m  \n",
       "1              €11.75m           €505.40m  \n",
       "2              €13.18m           €448.25m  \n",
       "3               €9.88m           €414.75m  \n",
       "4               €9.28m           €324.85m  "
      ]
     },
     "execution_count": 2,
     "metadata": {},
     "output_type": "execute_result"
    }
   ],
   "source": [
    "raw_team_profile_data = pd.read_csv('./data/raw_data/team_profile.csv', delimiter='\\t')\n",
    "raw_team_profile_data.head()"
   ]
  },
  {
   "cell_type": "markdown",
   "metadata": {
    "id": "28iqSXDOVQiO"
   },
   "source": [
    "**Dữ liệu có bao nhiêu hàng, bao nhiêu cột?**"
   ]
  },
  {
   "cell_type": "code",
   "execution_count": 3,
   "metadata": {},
   "outputs": [
    {
     "name": "stdout",
     "output_type": "stream",
     "text": [
      "Số dòng: 200\n",
      "Số cột: 7\n"
     ]
    }
   ],
   "source": [
    "row, col = raw_team_profile_data.shape\n",
    "print(f'Số dòng: {row}')\n",
    "print(f'Số cột: {col}')"
   ]
  },
  {
   "cell_type": "markdown",
   "metadata": {
    "id": "iA-vG8UCVZVj"
   },
   "source": [
    "**Dữ liệu các dòng có bị lặp không?**"
   ]
  },
  {
   "cell_type": "code",
   "execution_count": 4,
   "metadata": {},
   "outputs": [
    {
     "name": "stdout",
     "output_type": "stream",
     "text": [
      "Số dòng bị lặp: 0\n"
     ]
    }
   ],
   "source": [
    "duplicates = raw_team_profile_data.duplicated()\n",
    "print(f\"Số dòng bị lặp: {duplicates.sum()}\")"
   ]
  },
  {
   "cell_type": "markdown",
   "metadata": {
    "id": "sziz4Ka5Vacb"
   },
   "source": [
    "### Ý nghĩa của các cột dữ liệu"
   ]
  },
  {
   "cell_type": "markdown",
   "metadata": {},
   "source": [
    "1. `Season`: Mùa giải mà dữ liệu được ghi nhận.\n",
    "2. `Club`: Tên của câu lạc bộ bóng đá.\n",
    "3. `Squad`: Số lượng cầu thủ trong đội hình của câu lạc bộ.\n",
    "4. `Average age`: Tuổi trung bình của các cầu thủ trong đội.\n",
    "5. `Foreigners`: Số lượng cầu thủ nước ngoài trong đội hình.\n",
    "6. `Average market value`: Giá trị thị trường trung bình của các cầu thủ trong đội.\n",
    "7. `Total market value`: Tổng giá trị thị trường của tất cả cầu thủ trong đội bóng."
   ]
  },
  {
   "cell_type": "code",
   "execution_count": 5,
   "metadata": {},
   "outputs": [
    {
     "data": {
      "text/plain": [
       "Season                   object\n",
       "Club                     object\n",
       "Squad                   float64\n",
       "Average age             float64\n",
       "Foreigners              float64\n",
       "Average market value     object\n",
       "Total market value       object\n",
       "dtype: object"
      ]
     },
     "execution_count": 5,
     "metadata": {},
     "output_type": "execute_result"
    }
   ],
   "source": [
    "dtypes = raw_team_profile_data.dtypes\n",
    "dtypes"
   ]
  },
  {
   "cell_type": "markdown",
   "metadata": {},
   "source": [
    "### Chuẩn hóa dữ liệu và kiểu dữ liệu"
   ]
  },
  {
   "cell_type": "markdown",
   "metadata": {},
   "source": [
    "- Hiện tại, hai cột `Average market value` và `Total market value` đang có kiểu dữ liệu là object thay vì kiểu dữ liệu số, điều này không phù hợp với mục đích phân tích và tính toán. Cả hai cột này thực tế nên là các kiểu dữ liệu số (float) để có thể thực hiện các phép toán như cộng, trừ, hoặc phân tích thống kê.\n",
    "\n",
    "- Để chuyển đổi chúng về kiểu dữ liệu số, ta cần loại bỏ đơn vị tiền tệ (\"€\", \"m\", \"bn\") và chuyển đổi giá trị về cùng một mức giá, vì vậy thực hiện chuyển đổi đơn vị tiền tệ sang triệu euro (m) từ các cột có mức giá (bn)."
   ]
  },
  {
   "cell_type": "code",
   "execution_count": 6,
   "metadata": {},
   "outputs": [],
   "source": [
    "def convert_market_value(value):\n",
    "    value = value.replace('€', '').strip()\n",
    "    \n",
    "    if 'bn' in value:\n",
    "        value = value.replace('bn', '').strip()\n",
    "        value = float(value) * 1000  \n",
    "    elif 'm' in value:\n",
    "        value = value.replace('m', '').strip()  \n",
    "        value = float(value) \n",
    "        \n",
    "    return value    "
   ]
  },
  {
   "cell_type": "code",
   "execution_count": 7,
   "metadata": {},
   "outputs": [],
   "source": [
    "raw_team_profile_data['Average market value'] = raw_team_profile_data['Average market value'].apply(convert_market_value)\n",
    "raw_team_profile_data['Total market value'] = raw_team_profile_data['Total market value'].apply(convert_market_value)"
   ]
  },
  {
   "cell_type": "code",
   "execution_count": 8,
   "metadata": {},
   "outputs": [
    {
     "data": {
      "text/plain": [
       "Season                   object\n",
       "Club                     object\n",
       "Squad                   float64\n",
       "Average age             float64\n",
       "Foreigners              float64\n",
       "Average market value    float64\n",
       "Total market value      float64\n",
       "dtype: object"
      ]
     },
     "execution_count": 8,
     "metadata": {},
     "output_type": "execute_result"
    }
   ],
   "source": [
    "# kiểm tra lại kiểu dữ liệu\n",
    "raw_team_profile_data.dtypes"
   ]
  },
  {
   "cell_type": "code",
   "execution_count": 9,
   "metadata": {},
   "outputs": [
    {
     "data": {
      "text/html": [
       "<div>\n",
       "<style scoped>\n",
       "    .dataframe tbody tr th:only-of-type {\n",
       "        vertical-align: middle;\n",
       "    }\n",
       "\n",
       "    .dataframe tbody tr th {\n",
       "        vertical-align: top;\n",
       "    }\n",
       "\n",
       "    .dataframe thead th {\n",
       "        text-align: right;\n",
       "    }\n",
       "</style>\n",
       "<table border=\"1\" class=\"dataframe\">\n",
       "  <thead>\n",
       "    <tr style=\"text-align: right;\">\n",
       "      <th></th>\n",
       "      <th>Season</th>\n",
       "      <th>Club</th>\n",
       "      <th>Squad</th>\n",
       "      <th>Average age</th>\n",
       "      <th>Foreigners</th>\n",
       "      <th>Average market value</th>\n",
       "      <th>Total market value</th>\n",
       "    </tr>\n",
       "  </thead>\n",
       "  <tbody>\n",
       "    <tr>\n",
       "      <th>0</th>\n",
       "      <td>14/15</td>\n",
       "      <td>Chelsea FC</td>\n",
       "      <td>38.0</td>\n",
       "      <td>25.4</td>\n",
       "      <td>28.0</td>\n",
       "      <td>14.66</td>\n",
       "      <td>557.25</td>\n",
       "    </tr>\n",
       "    <tr>\n",
       "      <th>1</th>\n",
       "      <td>14/15</td>\n",
       "      <td>Manchester United</td>\n",
       "      <td>43.0</td>\n",
       "      <td>25.4</td>\n",
       "      <td>26.0</td>\n",
       "      <td>11.75</td>\n",
       "      <td>505.40</td>\n",
       "    </tr>\n",
       "    <tr>\n",
       "      <th>2</th>\n",
       "      <td>14/15</td>\n",
       "      <td>Manchester City</td>\n",
       "      <td>34.0</td>\n",
       "      <td>27.1</td>\n",
       "      <td>27.0</td>\n",
       "      <td>13.18</td>\n",
       "      <td>448.25</td>\n",
       "    </tr>\n",
       "    <tr>\n",
       "      <th>3</th>\n",
       "      <td>14/15</td>\n",
       "      <td>Arsenal FC</td>\n",
       "      <td>42.0</td>\n",
       "      <td>24.5</td>\n",
       "      <td>29.0</td>\n",
       "      <td>9.88</td>\n",
       "      <td>414.75</td>\n",
       "    </tr>\n",
       "    <tr>\n",
       "      <th>4</th>\n",
       "      <td>14/15</td>\n",
       "      <td>Liverpool FC</td>\n",
       "      <td>35.0</td>\n",
       "      <td>24.8</td>\n",
       "      <td>21.0</td>\n",
       "      <td>9.28</td>\n",
       "      <td>324.85</td>\n",
       "    </tr>\n",
       "  </tbody>\n",
       "</table>\n",
       "</div>"
      ],
      "text/plain": [
       "  Season               Club  Squad  Average age  Foreigners  \\\n",
       "0  14/15         Chelsea FC   38.0         25.4        28.0   \n",
       "1  14/15  Manchester United   43.0         25.4        26.0   \n",
       "2  14/15    Manchester City   34.0         27.1        27.0   \n",
       "3  14/15         Arsenal FC   42.0         24.5        29.0   \n",
       "4  14/15       Liverpool FC   35.0         24.8        21.0   \n",
       "\n",
       "   Average market value  Total market value  \n",
       "0                 14.66              557.25  \n",
       "1                 11.75              505.40  \n",
       "2                 13.18              448.25  \n",
       "3                  9.88              414.75  \n",
       "4                  9.28              324.85  "
      ]
     },
     "execution_count": 9,
     "metadata": {},
     "output_type": "execute_result"
    }
   ],
   "source": [
    "raw_team_profile_data.head()"
   ]
  },
  {
   "cell_type": "markdown",
   "metadata": {},
   "source": [
    "### Kiểm tra sự phân bố của dữ liệu trên các cột dữ liệu dạng số"
   ]
  },
  {
   "cell_type": "markdown",
   "metadata": {},
   "source": [
    "**Đầu tiên, kiểm tra xem có dữ liệu nào không hợp lệ không, giá trị của các dữ liệu dạng số phải lớn hơn hoặc bằng 0.**"
   ]
  },
  {
   "cell_type": "code",
   "execution_count": 10,
   "metadata": {},
   "outputs": [
    {
     "name": "stdout",
     "output_type": "stream",
     "text": [
      "No invalid values in column 'Squad'.\n",
      "No invalid values in column 'Average age'.\n",
      "No invalid values in column 'Foreigners'.\n",
      "No invalid values in column 'Average market value'.\n",
      "No invalid values in column 'Total market value'.\n"
     ]
    }
   ],
   "source": [
    "numeric_cols_df = raw_team_profile_data.select_dtypes(include=['number'])\n",
    "\n",
    "for column in numeric_cols_df.columns:\n",
    "    invalid_values = raw_team_profile_data[raw_team_profile_data[column] < 0]\n",
    "    if not invalid_values.empty:\n",
    "        print(f\"Invalid values in column '{column}':\")\n",
    "        print(invalid_values[[column]])\n",
    "    else:\n",
    "        print(f\"No invalid values in column '{column}'.\")"
   ]
  },
  {
   "cell_type": "markdown",
   "metadata": {},
   "source": [
    "Như vậy không có giá trị không hợp lệ ở các cột dữ liệu dạng số."
   ]
  },
  {
   "cell_type": "markdown",
   "metadata": {},
   "source": [
    "**Tiếp theo, ta sẽ xem xét sự phân bố của dữ liệu trong các cột dữ liệu dạng số này.**\n",
    "\n",
    "Đối với các cột có kiểu dữ liệu số, ta sẽ tính toán các giá trị sau:\n",
    "- Tỷ lệ phần trăm (từ 0 đến 100) của các giá trị thiếu\n",
    "- Giá trị nhỏ nhất (min)\n",
    "- Tứ phân vị thứ nhất (lower quartile)\n",
    "- Trung vị (median)\n",
    "- Tứ phân vị thứ ba (upper quartile)\n",
    "- Giá trị lớn nhất (max)"
   ]
  },
  {
   "cell_type": "code",
   "execution_count": 11,
   "metadata": {},
   "outputs": [
    {
     "data": {
      "text/html": [
       "<div>\n",
       "<style scoped>\n",
       "    .dataframe tbody tr th:only-of-type {\n",
       "        vertical-align: middle;\n",
       "    }\n",
       "\n",
       "    .dataframe tbody tr th {\n",
       "        vertical-align: top;\n",
       "    }\n",
       "\n",
       "    .dataframe thead th {\n",
       "        text-align: right;\n",
       "    }\n",
       "</style>\n",
       "<table border=\"1\" class=\"dataframe\">\n",
       "  <thead>\n",
       "    <tr style=\"text-align: right;\">\n",
       "      <th></th>\n",
       "      <th>Squad</th>\n",
       "      <th>Average age</th>\n",
       "      <th>Foreigners</th>\n",
       "      <th>Average market value</th>\n",
       "      <th>Total market value</th>\n",
       "    </tr>\n",
       "  </thead>\n",
       "  <tbody>\n",
       "    <tr>\n",
       "      <th>missing_ratio</th>\n",
       "      <td>4.0</td>\n",
       "      <td>1.0</td>\n",
       "      <td>2.0</td>\n",
       "      <td>0.00</td>\n",
       "      <td>0.00</td>\n",
       "    </tr>\n",
       "    <tr>\n",
       "      <th>min</th>\n",
       "      <td>29.0</td>\n",
       "      <td>22.2</td>\n",
       "      <td>11.0</td>\n",
       "      <td>1.75</td>\n",
       "      <td>52.55</td>\n",
       "    </tr>\n",
       "    <tr>\n",
       "      <th>lower_quartile</th>\n",
       "      <td>35.8</td>\n",
       "      <td>25.1</td>\n",
       "      <td>21.0</td>\n",
       "      <td>4.70</td>\n",
       "      <td>185.20</td>\n",
       "    </tr>\n",
       "    <tr>\n",
       "      <th>median</th>\n",
       "      <td>39.0</td>\n",
       "      <td>25.8</td>\n",
       "      <td>24.0</td>\n",
       "      <td>8.20</td>\n",
       "      <td>316.00</td>\n",
       "    </tr>\n",
       "    <tr>\n",
       "      <th>upper_quartile</th>\n",
       "      <td>43.0</td>\n",
       "      <td>26.6</td>\n",
       "      <td>27.0</td>\n",
       "      <td>13.60</td>\n",
       "      <td>541.70</td>\n",
       "    </tr>\n",
       "    <tr>\n",
       "      <th>max</th>\n",
       "      <td>56.0</td>\n",
       "      <td>28.6</td>\n",
       "      <td>41.0</td>\n",
       "      <td>40.63</td>\n",
       "      <td>1460.00</td>\n",
       "    </tr>\n",
       "  </tbody>\n",
       "</table>\n",
       "</div>"
      ],
      "text/plain": [
       "                Squad  Average age  Foreigners  Average market value  \\\n",
       "missing_ratio     4.0          1.0         2.0                  0.00   \n",
       "min              29.0         22.2        11.0                  1.75   \n",
       "lower_quartile   35.8         25.1        21.0                  4.70   \n",
       "median           39.0         25.8        24.0                  8.20   \n",
       "upper_quartile   43.0         26.6        27.0                 13.60   \n",
       "max              56.0         28.6        41.0                 40.63   \n",
       "\n",
       "                Total market value  \n",
       "missing_ratio                 0.00  \n",
       "min                          52.55  \n",
       "lower_quartile              185.20  \n",
       "median                      316.00  \n",
       "upper_quartile              541.70  \n",
       "max                        1460.00  "
      ]
     },
     "execution_count": 11,
     "metadata": {},
     "output_type": "execute_result"
    }
   ],
   "source": [
    "numeric_cols_df = raw_team_profile_data.select_dtypes(include=['number'])\n",
    "\n",
    "def missing_ratio(df):\n",
    "    return (df.isna().mean() * 100).round(1)\n",
    "\n",
    "def median(df):\n",
    "    return (df.quantile(0.5)).round(1)\n",
    "\n",
    "def lower_quartile(df):\n",
    "    return (df.quantile(0.25)).round(1)\n",
    "\n",
    "def upper_quartile(df):\n",
    "    return (df.quantile(0.75)).round(1)\n",
    "\n",
    "num_team_profile_col_info_df = numeric_cols_df.agg([missing_ratio, \"min\", lower_quartile, median, upper_quartile, \"max\"])\n",
    "num_team_profile_col_info_df"
   ]
  },
  {
   "cell_type": "markdown",
   "metadata": {},
   "source": [
    "### Kiểm tra sự phân bố của dữ liệu trên các cột dữ liệu phân loại"
   ]
  },
  {
   "cell_type": "markdown",
   "metadata": {},
   "source": [
    "Đối với các cột phân loại, ta sẽ tính toán các giá trị sau:\n",
    "\n",
    "- Tỷ lệ phần trăm các giá trị thiếu (Missing Ratio): Tính toán tỷ lệ phần trăm của các giá trị bị thiếu trong cột.\n",
    "  \n",
    "- Số lượng giá trị khác nhau (Number of Unique Values): Đếm số lượng các giá trị duy nhất trong cột, không bao gồm các giá trị thiếu.\n",
    "\n",
    "- Tỷ lệ phần trăm của từng giá trị (Value Ratios): Tính tỷ lệ phần trăm xuất hiện của từng giá trị trong cột, không tính các giá trị thiếu. Tỷ lệ được tính trên tổng số giá trị không thiếu trong cột."
   ]
  },
  {
   "cell_type": "code",
   "execution_count": 12,
   "metadata": {},
   "outputs": [
    {
     "data": {
      "text/html": [
       "<div>\n",
       "<style scoped>\n",
       "    .dataframe tbody tr th:only-of-type {\n",
       "        vertical-align: middle;\n",
       "    }\n",
       "\n",
       "    .dataframe tbody tr th {\n",
       "        vertical-align: top;\n",
       "    }\n",
       "\n",
       "    .dataframe thead th {\n",
       "        text-align: right;\n",
       "    }\n",
       "</style>\n",
       "<table border=\"1\" class=\"dataframe\">\n",
       "  <thead>\n",
       "    <tr style=\"text-align: right;\">\n",
       "      <th></th>\n",
       "      <th>Season</th>\n",
       "      <th>Club</th>\n",
       "    </tr>\n",
       "  </thead>\n",
       "  <tbody>\n",
       "    <tr>\n",
       "      <th>missing_ratio</th>\n",
       "      <td>0.0</td>\n",
       "      <td>0.0</td>\n",
       "    </tr>\n",
       "    <tr>\n",
       "      <th>num_values</th>\n",
       "      <td>10</td>\n",
       "      <td>34</td>\n",
       "    </tr>\n",
       "    <tr>\n",
       "      <th>value_ratios</th>\n",
       "      <td>{'14/15': 10.0, '15/16': 10.0, '16/17': 10.0, ...</td>\n",
       "      <td>{'Chelsea FC': 5.0, 'Manchester United': 5.0, ...</td>\n",
       "    </tr>\n",
       "  </tbody>\n",
       "</table>\n",
       "</div>"
      ],
      "text/plain": [
       "                                                          Season  \\\n",
       "missing_ratio                                                0.0   \n",
       "num_values                                                    10   \n",
       "value_ratios   {'14/15': 10.0, '15/16': 10.0, '16/17': 10.0, ...   \n",
       "\n",
       "                                                            Club  \n",
       "missing_ratio                                                0.0  \n",
       "num_values                                                    34  \n",
       "value_ratios   {'Chelsea FC': 5.0, 'Manchester United': 5.0, ...  "
      ]
     },
     "execution_count": 12,
     "metadata": {},
     "output_type": "execute_result"
    }
   ],
   "source": [
    "def value_ratios(s):\n",
    "    total_count = s.notna().sum()  \n",
    "    ratios = (s.value_counts(dropna=True) / total_count * 100).round(1)  \n",
    "    return ratios.to_dict()\n",
    "\n",
    "def num_values(s):\n",
    "    return s.value_counts().count()\n",
    "\n",
    "cat_team_profile_col_info_cols = raw_team_profile_data.select_dtypes(include='object')\n",
    "cat_team_profile_col_info_df = cat_team_profile_col_info_cols.agg([missing_ratio, num_values, value_ratios]) \n",
    "cat_team_profile_col_info_df"
   ]
  },
  {
   "cell_type": "markdown",
   "metadata": {},
   "source": [
    "Dữ liệu phân loại đã được phân bổ đúng theo yêu cầu, đảm bảo phù hợp với mục đích phân tích."
   ]
  },
  {
   "cell_type": "markdown",
   "metadata": {
    "id": "7adPCSZXWWzY"
   },
   "source": [
    "### A.2.Xử lý dữ liệu thiếu\n",
    "\n"
   ]
  },
  {
   "cell_type": "markdown",
   "metadata": {},
   "source": [
    "**Đầu tiên, xem lại tỉ lệ dữ liệu bị thiếu của các cột**"
   ]
  },
  {
   "cell_type": "code",
   "execution_count": 13,
   "metadata": {},
   "outputs": [
    {
     "data": {
      "text/plain": [
       "{'Squad': np.float64(4.0),\n",
       " 'Average age': np.float64(1.0),\n",
       " 'Foreigners': np.float64(2.0),\n",
       " 'Average market value': np.float64(0.0),\n",
       " 'Total market value': np.float64(0.0)}"
      ]
     },
     "execution_count": 13,
     "metadata": {},
     "output_type": "execute_result"
    }
   ],
   "source": [
    "dict(num_team_profile_col_info_df.iloc[0])"
   ]
  },
  {
   "cell_type": "markdown",
   "metadata": {},
   "source": [
    "Sau khi phân tích tỷ lệ phần trăm các dữ liệu thiếu của các cột, nhận thấy rằng tỷ lệ này rất thấp, do đó không cần phải loại bỏ các cột có dữ liệu thiếu. Thay vào đó, tiến hành điền các giá trị thiếu này để duy trì tính đầy đủ và chính xác của bộ dữ liệu."
   ]
  },
  {
   "cell_type": "markdown",
   "metadata": {},
   "source": [
    "**Điền dữ liệu cho các cột bị thiếu**"
   ]
  },
  {
   "cell_type": "markdown",
   "metadata": {},
   "source": [
    "Dữ liệu bị thiếu ở 3 cột: `Squad`, `Average age`, `Foreigners`\n",
    "- Đối với cột `Squad`: dựa theo ý nghĩa của từng cột trong dữ liệu, giá trị này của một đội có thể được tính bằng cách lấy dữ liệu của cột `Total market value` chia cho `Average market value` tương ứng trong dòng đó. (`Average market value` = `Total market value` x `Squad`)\n",
    "- Với cột `Average age`: ta sẽ điền bằng cách lấy trung bình số tuổi trung bình của đội bóng đó của 2 mùa giải trước đó và sau đó. \n",
    "- Với cột `Freigners`: tương tự như cột Average age, ta sẽ điền bằng cách lấy trung bình số lượng cầu thủ ngoại quốc của đội bóng đó của 2 mùa giải trước đó và sau đó. \n",
    "- Trường hợp nếu dữ liệu bị thiếu nằm ở mùa đầu tiên (cuối cùng) của dữ liệu, ta sẽ điền bằng cách lấy dữ liệu ứng với mùa sau đó (trước đó)."
   ]
  },
  {
   "cell_type": "code",
   "execution_count": 14,
   "metadata": {},
   "outputs": [],
   "source": [
    "def fill_missing_by_adjacent_seasons(df, column):\n",
    "    for index, row in df[df[column].isnull()].iterrows():\n",
    "        \n",
    "        season = row['Season'] # lấy mùa giải của dòng có dữ liệu bị thiếu\n",
    "        club = row['Club'] # lấy tên đội bóng có dữ liệu bị thiếu\n",
    "        \n",
    "        # tìm mùa giải trước và sau\n",
    "        prev_season = str(int(season.split('/')[0])-1) + '/' + str(int(season.split('/')[1])-1)\n",
    "        next_season = str(int(season.split('/')[0])+1) + '/' + str(int(season.split('/')[1])+1)\n",
    "        \n",
    "        # tìm giá trị trong cột của mùa giải trước và sau cho cùng một câu lạc bộ\n",
    "        prev_value = df[(df['Season'] == prev_season) & (df['Club'] == club)][column]\n",
    "        next_value = df[(df['Season'] == next_season) & (df['Club'] == club)][column]\n",
    "        \n",
    "        if not prev_value.empty and not next_value.empty: # điền trung bình vào\n",
    "            if column == 'Foreigners':  # nếu là cột 'Foreigners', ta sẽ làm tròn giá trị\n",
    "                df.at[index, column] = int((prev_value.values[0] + next_value.values[0]) / 2)\n",
    "            else:\n",
    "                df.at[index, column] = (prev_value.values[0] + next_value.values[0]) / 2\n",
    "        elif prev_value.empty and not next_value.empty:\n",
    "            df.at[index, column] = next_value.values[0]\n",
    "        elif not prev_value.empty and next_value.empty:\n",
    "            df.at[index, column] = prev_value.values[0]\n",
    "            \n",
    "    return df\n",
    "\n",
    "# điền giá trị thiếu cho cột 'Squad'\n",
    "raw_team_profile_data['Squad'] = raw_team_profile_data['Squad'].fillna(\n",
    "    (raw_team_profile_data['Total market value'] / raw_team_profile_data['Average market value']).round().astype(int)\n",
    ")\n",
    "\n",
    "# điền giá trị thiếu cho các cột 'Squad', 'Average age', và 'Foreigners'\n",
    "raw_team_profile_data = fill_missing_by_adjacent_seasons(raw_team_profile_data, 'Average age')\n",
    "raw_team_profile_data = fill_missing_by_adjacent_seasons(raw_team_profile_data, 'Foreigners')"
   ]
  },
  {
   "cell_type": "markdown",
   "metadata": {},
   "source": [
    "**Kiểm tra lại phân bố của dữ liệu sau khi đã điền các giá trị bị thiếu**"
   ]
  },
  {
   "cell_type": "code",
   "execution_count": 15,
   "metadata": {},
   "outputs": [
    {
     "data": {
      "text/html": [
       "<div>\n",
       "<style scoped>\n",
       "    .dataframe tbody tr th:only-of-type {\n",
       "        vertical-align: middle;\n",
       "    }\n",
       "\n",
       "    .dataframe tbody tr th {\n",
       "        vertical-align: top;\n",
       "    }\n",
       "\n",
       "    .dataframe thead th {\n",
       "        text-align: right;\n",
       "    }\n",
       "</style>\n",
       "<table border=\"1\" class=\"dataframe\">\n",
       "  <thead>\n",
       "    <tr style=\"text-align: right;\">\n",
       "      <th></th>\n",
       "      <th>Squad</th>\n",
       "      <th>Average age</th>\n",
       "      <th>Foreigners</th>\n",
       "      <th>Average market value</th>\n",
       "      <th>Total market value</th>\n",
       "    </tr>\n",
       "  </thead>\n",
       "  <tbody>\n",
       "    <tr>\n",
       "      <th>missing_ratio</th>\n",
       "      <td>0.0</td>\n",
       "      <td>0.0</td>\n",
       "      <td>0.0</td>\n",
       "      <td>0.00</td>\n",
       "      <td>0.00</td>\n",
       "    </tr>\n",
       "    <tr>\n",
       "      <th>min</th>\n",
       "      <td>29.0</td>\n",
       "      <td>22.2</td>\n",
       "      <td>11.0</td>\n",
       "      <td>1.75</td>\n",
       "      <td>52.55</td>\n",
       "    </tr>\n",
       "    <tr>\n",
       "      <th>lower_quartile</th>\n",
       "      <td>35.8</td>\n",
       "      <td>25.1</td>\n",
       "      <td>21.0</td>\n",
       "      <td>4.70</td>\n",
       "      <td>185.20</td>\n",
       "    </tr>\n",
       "    <tr>\n",
       "      <th>median</th>\n",
       "      <td>39.0</td>\n",
       "      <td>25.8</td>\n",
       "      <td>24.0</td>\n",
       "      <td>8.20</td>\n",
       "      <td>316.00</td>\n",
       "    </tr>\n",
       "    <tr>\n",
       "      <th>upper_quartile</th>\n",
       "      <td>43.0</td>\n",
       "      <td>26.6</td>\n",
       "      <td>27.0</td>\n",
       "      <td>13.60</td>\n",
       "      <td>541.70</td>\n",
       "    </tr>\n",
       "    <tr>\n",
       "      <th>max</th>\n",
       "      <td>56.0</td>\n",
       "      <td>28.6</td>\n",
       "      <td>41.0</td>\n",
       "      <td>40.63</td>\n",
       "      <td>1460.00</td>\n",
       "    </tr>\n",
       "  </tbody>\n",
       "</table>\n",
       "</div>"
      ],
      "text/plain": [
       "                Squad  Average age  Foreigners  Average market value  \\\n",
       "missing_ratio     0.0          0.0         0.0                  0.00   \n",
       "min              29.0         22.2        11.0                  1.75   \n",
       "lower_quartile   35.8         25.1        21.0                  4.70   \n",
       "median           39.0         25.8        24.0                  8.20   \n",
       "upper_quartile   43.0         26.6        27.0                 13.60   \n",
       "max              56.0         28.6        41.0                 40.63   \n",
       "\n",
       "                Total market value  \n",
       "missing_ratio                 0.00  \n",
       "min                          52.55  \n",
       "lower_quartile              185.20  \n",
       "median                      316.00  \n",
       "upper_quartile              541.70  \n",
       "max                        1460.00  "
      ]
     },
     "execution_count": 15,
     "metadata": {},
     "output_type": "execute_result"
    }
   ],
   "source": [
    "raw_team_profile_data.select_dtypes(exclude='object').agg([missing_ratio, \"min\", lower_quartile, median, upper_quartile, \"max\"])"
   ]
  },
  {
   "cell_type": "markdown",
   "metadata": {},
   "source": [
    "## B. Giảm độ phức tạp dữ liệu"
   ]
  },
  {
   "cell_type": "markdown",
   "metadata": {},
   "source": [
    "**Đầu tiên, ta sẽ xem xét sự ảnh hưởng lẫn nhau của các cột dữ liệu bằng ma trận tương quan**"
   ]
  },
  {
   "cell_type": "code",
   "execution_count": 16,
   "metadata": {},
   "outputs": [],
   "source": [
    "correlation_matrix = raw_team_profile_data.select_dtypes(exclude='object').corr()"
   ]
  },
  {
   "cell_type": "code",
   "execution_count": 17,
   "metadata": {},
   "outputs": [
    {
     "data": {
      "image/png": "[encoded data removed]",
      "text/plain": [
       "<Figure size 1000x800 with 2 Axes>"
      ]
     },
     "metadata": {},
     "output_type": "display_data"
    }
   ],
   "source": [
    "plt.figure(figsize=(10, 8))\n",
    "sns.heatmap(correlation_matrix, annot=True, cmap=\"coolwarm\", fmt=\".2f\", linewidths=0.5)\n",
    "plt.title(\"Correlation Matrix\", fontsize=16)\n",
    "plt.show()"
   ]
  },
  {
   "cell_type": "markdown",
   "metadata": {},
   "source": [
    "**Nhận xét**"
   ]
  },
  {
   "cell_type": "markdown",
   "metadata": {},
   "source": [
    "- Dựa vào biểu đồ, có thể thấy dữ liệu của cột `Average market value` và \t`Total market value` có độ tương quan thuận vô cùng mạnh với nhau với hệ số tương quan là 0.97.\n",
    "\n",
    "- `Average market value` là giá trị trung bình của các cầu thủ trong đội bóng, trong khi `Total market value` là tổng giá trị của tất cả các cầu thủ. Mối quan hệ mạnh mẽ giữa chúng có thể được giải thích bằng cách Total market value chính là kết quả của phép toán nhân giữa Average market value và số lượng cầu thủ trong đội (cột Squad) như đã nhận xét ở trên."
   ]
  },
  {
   "cell_type": "markdown",
   "metadata": {},
   "source": [
    "**Nhóm em quyết định loại bỏ cột `Average market value` ở tập dữ liệu này vì những lí do sau**"
   ]
  },
  {
   "cell_type": "markdown",
   "metadata": {},
   "source": [
    "- Vì `Average market value` và `Total market value` không mang thêm giá trị thông tin độc lập, vì giá trị của nó có thể được tính toán lẫn nhau thông qua giá trị của `Squad`.\n",
    "\n",
    "- **Và mục tiêu của nhóm em là nghiên cứu về thông tin giá trị tổng thể của đội bóng**, thì cột `Total market value` sẽ hữu ích hơn, vì nó cung cấp thông tin về giá trị tổng thể của đội bóng, đặc biệt khi muốn phân tích về tình trạng tài chính hay mức độ đầu tư vào các đội bóng.\n",
    "\n",
    "- Vì vậy, việc loại bỏ cột `Average market value` thay vì `Total market value`, giúp giữ lại cột chứa thông tin tổng thể và giảm sự dư thừa trong bộ dữ liệu, đồng thời giúp quá trình phân tích trở nên dễ dàng hơn mà không mất đi thông tin quan trọng."
   ]
  },
  {
   "cell_type": "code",
   "execution_count": 18,
   "metadata": {},
   "outputs": [
    {
     "data": {
      "text/html": [
       "<div>\n",
       "<style scoped>\n",
       "    .dataframe tbody tr th:only-of-type {\n",
       "        vertical-align: middle;\n",
       "    }\n",
       "\n",
       "    .dataframe tbody tr th {\n",
       "        vertical-align: top;\n",
       "    }\n",
       "\n",
       "    .dataframe thead th {\n",
       "        text-align: right;\n",
       "    }\n",
       "</style>\n",
       "<table border=\"1\" class=\"dataframe\">\n",
       "  <thead>\n",
       "    <tr style=\"text-align: right;\">\n",
       "      <th></th>\n",
       "      <th>Season</th>\n",
       "      <th>Club</th>\n",
       "      <th>Squad</th>\n",
       "      <th>Average age</th>\n",
       "      <th>Foreigners</th>\n",
       "      <th>Total market value</th>\n",
       "    </tr>\n",
       "  </thead>\n",
       "  <tbody>\n",
       "    <tr>\n",
       "      <th>0</th>\n",
       "      <td>14/15</td>\n",
       "      <td>Chelsea FC</td>\n",
       "      <td>38.0</td>\n",
       "      <td>25.4</td>\n",
       "      <td>28.0</td>\n",
       "      <td>557.25</td>\n",
       "    </tr>\n",
       "    <tr>\n",
       "      <th>1</th>\n",
       "      <td>14/15</td>\n",
       "      <td>Manchester United</td>\n",
       "      <td>43.0</td>\n",
       "      <td>25.4</td>\n",
       "      <td>26.0</td>\n",
       "      <td>505.40</td>\n",
       "    </tr>\n",
       "    <tr>\n",
       "      <th>2</th>\n",
       "      <td>14/15</td>\n",
       "      <td>Manchester City</td>\n",
       "      <td>34.0</td>\n",
       "      <td>27.1</td>\n",
       "      <td>27.0</td>\n",
       "      <td>448.25</td>\n",
       "    </tr>\n",
       "    <tr>\n",
       "      <th>3</th>\n",
       "      <td>14/15</td>\n",
       "      <td>Arsenal FC</td>\n",
       "      <td>42.0</td>\n",
       "      <td>24.5</td>\n",
       "      <td>29.0</td>\n",
       "      <td>414.75</td>\n",
       "    </tr>\n",
       "    <tr>\n",
       "      <th>4</th>\n",
       "      <td>14/15</td>\n",
       "      <td>Liverpool FC</td>\n",
       "      <td>35.0</td>\n",
       "      <td>24.8</td>\n",
       "      <td>21.0</td>\n",
       "      <td>324.85</td>\n",
       "    </tr>\n",
       "  </tbody>\n",
       "</table>\n",
       "</div>"
      ],
      "text/plain": [
       "  Season               Club  Squad  Average age  Foreigners  \\\n",
       "0  14/15         Chelsea FC   38.0         25.4        28.0   \n",
       "1  14/15  Manchester United   43.0         25.4        26.0   \n",
       "2  14/15    Manchester City   34.0         27.1        27.0   \n",
       "3  14/15         Arsenal FC   42.0         24.5        29.0   \n",
       "4  14/15       Liverpool FC   35.0         24.8        21.0   \n",
       "\n",
       "   Total market value  \n",
       "0              557.25  \n",
       "1              505.40  \n",
       "2              448.25  \n",
       "3              414.75  \n",
       "4              324.85  "
      ]
     },
     "execution_count": 18,
     "metadata": {},
     "output_type": "execute_result"
    }
   ],
   "source": [
    "# loại bỏ cột 'Average market value'\n",
    "raw_team_profile_data = raw_team_profile_data.drop(columns=['Average market value'])\n",
    "raw_team_profile_data.head()"
   ]
  },
  {
   "cell_type": "markdown",
   "metadata": {},
   "source": [
    "**Lưu dữ liệu sau khi xử lí**"
   ]
  },
  {
   "cell_type": "code",
   "execution_count": 19,
   "metadata": {},
   "outputs": [],
   "source": [
    "raw_team_profile_data.to_csv('./data/clean_data/team_profile.csv', sep='\\t', encoding='utf-8', index=False, header=True)"
   ]
  }
 ],
 "metadata": {
  "colab": {
   "provenance": []
  },
  "kernelspec": {
   "display_name": "min_ds-env",
   "language": "python",
   "name": "python3"
  },
  "language_info": {
   "codemirror_mode": {
    "name": "ipython",
    "version": 3
   },
   "file_extension": ".py",
   "mimetype": "text/x-python",
   "name": "python",
   "nbconvert_exporter": "python",
   "pygments_lexer": "ipython3",
   "version": "3.13.0"
  }
 },
 "nbformat": 4,
 "nbformat_minor": 0
}
